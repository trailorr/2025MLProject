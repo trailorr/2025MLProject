{
  "nbformat": 4,
  "nbformat_minor": 0,
  "metadata": {
    "colab": {
      "provenance": []
    },
    "kernelspec": {
      "name": "python3",
      "display_name": "Python 3"
    },
    "language_info": {
      "name": "python"
    }
  },
  "cells": [
    {
      "cell_type": "markdown",
      "source": [
        "## DATA COLLECTION\n"
      ],
      "metadata": {
        "id": "pHnt1uc7r3Mr"
      }
    },
    {
      "cell_type": "code",
      "source": [
        "from google.colab import drive\n",
        "drive.mount('/content/drive')\n",
        "\n",
        "!pip install xgboost\n",
        "!pip install imbalanced-learn\n",
        "\n",
        "import os\n",
        "import pandas as pd\n",
        "import xgboost as xgb\n",
        "import pandas as pd\n",
        "import numpy as np\n",
        "\n",
        "from sklearn.model_selection import train_test_split\n",
        "from sklearn.impute import SimpleImputer\n",
        "from sklearn.metrics import classification_report\n",
        "from sklearn.metrics import accuracy_score\n",
        "from sklearn.linear_model import LogisticRegression\n",
        "\n",
        "from xgboost import XGBClassifier\n",
        "\n",
        "from imblearn.over_sampling import SMOTE"
      ],
      "metadata": {
        "id": "LDOR56_Eh5RF",
        "outputId": "357ef584-7866-4e74-cb9c-fff5a182025d",
        "colab": {
          "base_uri": "https://localhost:8080/"
        }
      },
      "execution_count": null,
      "outputs": [
        {
          "output_type": "stream",
          "name": "stdout",
          "text": [
            "Drive already mounted at /content/drive; to attempt to forcibly remount, call drive.mount(\"/content/drive\", force_remount=True).\n",
            "Requirement already satisfied: xgboost in /usr/local/lib/python3.11/dist-packages (2.1.4)\n",
            "Requirement already satisfied: numpy in /usr/local/lib/python3.11/dist-packages (from xgboost) (2.0.2)\n",
            "Requirement already satisfied: nvidia-nccl-cu12 in /usr/local/lib/python3.11/dist-packages (from xgboost) (2.21.5)\n",
            "Requirement already satisfied: scipy in /usr/local/lib/python3.11/dist-packages (from xgboost) (1.14.1)\n",
            "Requirement already satisfied: imbalanced-learn in /usr/local/lib/python3.11/dist-packages (0.13.0)\n",
            "Requirement already satisfied: numpy<3,>=1.24.3 in /usr/local/lib/python3.11/dist-packages (from imbalanced-learn) (2.0.2)\n",
            "Requirement already satisfied: scipy<2,>=1.10.1 in /usr/local/lib/python3.11/dist-packages (from imbalanced-learn) (1.14.1)\n",
            "Requirement already satisfied: scikit-learn<2,>=1.3.2 in /usr/local/lib/python3.11/dist-packages (from imbalanced-learn) (1.6.1)\n",
            "Requirement already satisfied: sklearn-compat<1,>=0.1 in /usr/local/lib/python3.11/dist-packages (from imbalanced-learn) (0.1.3)\n",
            "Requirement already satisfied: joblib<2,>=1.1.1 in /usr/local/lib/python3.11/dist-packages (from imbalanced-learn) (1.4.2)\n",
            "Requirement already satisfied: threadpoolctl<4,>=2.0.0 in /usr/local/lib/python3.11/dist-packages (from imbalanced-learn) (3.6.0)\n"
          ]
        }
      ]
    },
    {
      "cell_type": "markdown",
      "source": [
        "#### Loading the datasets"
      ],
      "metadata": {
        "id": "8F9O59OSjk55"
      }
    },
    {
      "cell_type": "code",
      "source": [
        "\n",
        "# Had to make a copy of our folder called MLProjectLocal with only Datasets in it, otherwise it was saying file did not exist\n",
        "#dataset_path = '/content/drive/MyDrive/MLProjectLocal/Datasets'\n",
        "dataset_path = '/content/drive/MyDrive/MLProject/Datasets'\n",
        "\n",
        "\n",
        "#List of all .csv files currently within Datasets\n",
        "csv_files = [os.path.join(dataset_path, f) for f in os.listdir(dataset_path) if f.endswith('.csv')]\n",
        "\n",
        "#Combining all of the stations from that one website as starting point\n",
        "df_list = []\n",
        "for file in csv_files:\n",
        "    if 'station' in file:\n",
        "      df_station = pd.read_csv(file)\n",
        "      df_list.append(df_station)\n",
        "\n",
        "df = pd.concat(df_list, ignore_index=True)\n",
        "print(df.head())\n"
      ],
      "metadata": {
        "id": "_3m_cIM5i7qf",
        "colab": {
          "base_uri": "https://localhost:8080/"
        },
        "outputId": "3017f954-d59e-42b6-f553-190c6ae0991f"
      },
      "execution_count": null,
      "outputs": [
        {
          "output_type": "stream",
          "name": "stdout",
          "text": [
            "    id  internal_station_id              collected_at  temperature_C  \\\n",
            "0  863                    6  2006-08-30T13:34:00.000Z           16.7   \n",
            "1  864                    6  2006-09-27T16:02:00.000Z           17.8   \n",
            "2  865                    6  2007-01-14T14:00:00.000Z            6.8   \n",
            "3  866                    6  2007-02-27T12:10:00.000Z            1.6   \n",
            "4  867                    6  2007-03-27T14:30:00.000Z            4.0   \n",
            "\n",
            "   salinity  dissolved_oxygen_mg/L  chlorophyll_ug/L  pheophytin_ug/L  \\\n",
            "0      31.1                   8.73               NaN              NaN   \n",
            "1      31.4                   9.84               NaN              NaN   \n",
            "2      31.6                   9.79               NaN              NaN   \n",
            "3      31.5                  12.08              6.59             0.01   \n",
            "4      31.9                  11.49              1.35             0.15   \n",
            "\n",
            "   turbidty_NTU  nitrate_nitrite_uM  ammonium_uM  ortho_phosphate_uM  \\\n",
            "0           NaN                0.14          NaN                0.37   \n",
            "1           NaN                0.26          NaN                0.79   \n",
            "2           NaN                2.09          NaN                0.45   \n",
            "3           NaN                0.53          NaN                0.27   \n",
            "4           NaN                0.09          NaN                0.28   \n",
            "\n",
            "   silicate_uM  particulate_organic_nitrogen_uM  \\\n",
            "0          NaN                              NaN   \n",
            "1          NaN                              NaN   \n",
            "2          NaN                              NaN   \n",
            "3          NaN                              NaN   \n",
            "4          NaN                              NaN   \n",
            "\n",
            "   particulate_organic_carbon_uM  total_dissolved_nitrogen_uM  \\\n",
            "0                            NaN                          NaN   \n",
            "1                            NaN                          NaN   \n",
            "2                            NaN                          NaN   \n",
            "3                            NaN                          NaN   \n",
            "4                            NaN                          NaN   \n",
            "\n",
            "   total_dissolved_phosphorus_uM  total_nitrogen_uM  total_phosphorus_uM  \\\n",
            "0                            NaN                NaN                  NaN   \n",
            "1                            NaN                NaN                  NaN   \n",
            "2                            NaN                NaN                  NaN   \n",
            "3                            NaN                NaN                  NaN   \n",
            "4                            NaN               7.67                 0.52   \n",
            "\n",
            "   total_nitrogen_TDN_PON  \n",
            "0                     NaN  \n",
            "1                     NaN  \n",
            "2                     NaN  \n",
            "3                     NaN  \n",
            "4                     NaN  \n"
          ]
        }
      ]
    },
    {
      "cell_type": "markdown",
      "source": [
        "## BASELINE MODEL FOR PRELIM RESULTS\n"
      ],
      "metadata": {
        "id": "uzF4EOdNr7Xk"
      }
    },
    {
      "cell_type": "markdown",
      "source": [
        "#### Model Development\n"
      ],
      "metadata": {
        "id": "Do_lZ-k_sNVT"
      }
    },
    {
      "cell_type": "code",
      "source": [
        "df = df.drop(columns=[\"id\", \"internal_station_id\", \"collected_at\"])\n",
        "\n",
        "#drop rows where the oxygen is missing\n",
        "if \"dissolved_oxygen_mg/L\" not in df.columns:\n",
        "  print(1)\n",
        "df = df.dropna(subset=[\"dissolved_oxygen_mg/L\"])\n",
        "\n",
        "#google told me 2ppm is when it gets hypoxic\n",
        "df[\"hypoxic\"] = (df[\"dissolved_oxygen_mg/L\"] < 7).astype(int)\n",
        "\n",
        "df = df.drop(columns=[\"dissolved_oxygen_mg/L\"])\n",
        "\n",
        "X = df.drop(columns=[\"hypoxic\"])\n",
        "y = df[\"hypoxic\"]\n",
        "\n",
        "print(len(y[y==1]))\n",
        "#there are only 3 hypoxic events vs 1764 non hypoxic\n",
        "\n",
        "#in another class we just put in the mean for missing data, we could also just omit\n",
        "imputer = SimpleImputer(strategy=\"mean\")\n",
        "X_imputed = imputer.fit_transform(X)\n",
        "\n",
        "X_train, X_test, y_train, y_test = train_test_split(X_imputed, y, test_size=0.2, random_state=42)\n",
        "\n",
        "#train\n",
        "xgb_model = XGBClassifier(use_label_encoder=False, eval_metric=\"logloss\")\n",
        "xgb_model.fit(X_train, y_train)\n",
        "\n",
        "y_test_pred = xgb_model.predict(X_test)\n",
        "\n",
        "print()\n",
        "print(\"Classification Report for XGBoost\")\n",
        "print(classification_report(y_test, y_test_pred))\n"
      ],
      "metadata": {
        "id": "fEfD8G27sTbd",
        "colab": {
          "base_uri": "https://localhost:8080/"
        },
        "outputId": "7f64d9f5-b384-4cce-bc6a-b391e33d3ed0"
      },
      "execution_count": null,
      "outputs": [
        {
          "output_type": "stream",
          "name": "stdout",
          "text": [
            "625\n"
          ]
        },
        {
          "output_type": "stream",
          "name": "stderr",
          "text": [
            "/usr/local/lib/python3.11/dist-packages/xgboost/core.py:158: UserWarning: [22:49:58] WARNING: /workspace/src/learner.cc:740: \n",
            "Parameters: { \"use_label_encoder\" } are not used.\n",
            "\n",
            "  warnings.warn(smsg, UserWarning)\n"
          ]
        },
        {
          "output_type": "stream",
          "name": "stdout",
          "text": [
            "\n",
            "Classification Report for XGBoost\n",
            "              precision    recall  f1-score   support\n",
            "\n",
            "           0       0.89      0.93      0.91       357\n",
            "           1       0.80      0.71      0.75       140\n",
            "\n",
            "    accuracy                           0.87       497\n",
            "   macro avg       0.85      0.82      0.83       497\n",
            "weighted avg       0.87      0.87      0.87       497\n",
            "\n"
          ]
        }
      ]
    },
    {
      "cell_type": "markdown",
      "source": [
        "#### Logistic Regression"
      ],
      "metadata": {
        "id": "ilQAprug-jxC"
      }
    },
    {
      "cell_type": "code",
      "source": [
        "\n",
        "lr_model = LogisticRegression(max_iter=5000) # max_iter set to 5000 because of convergence\n",
        "\n",
        "lr_model.fit(X_train, y_train)\n",
        "\n",
        "lr_expected = y_test\n",
        "lr_pred = lr_model.predict(X_test)\n",
        "\n",
        "print()\n",
        "print(\"Classification Report for Logistic Regression\")\n",
        "print(classification_report(lr_expected, lr_pred))"
      ],
      "metadata": {
        "colab": {
          "base_uri": "https://localhost:8080/"
        },
        "id": "A9m0BL3l-jFh",
        "outputId": "27abd92f-d2c4-4eb0-8e33-6804c0c1163a"
      },
      "execution_count": null,
      "outputs": [
        {
          "output_type": "stream",
          "name": "stdout",
          "text": [
            "\n",
            "Classification Report for Logistic Regression\n",
            "              precision    recall  f1-score   support\n",
            "\n",
            "           0       0.80      0.96      0.87       357\n",
            "           1       0.77      0.39      0.51       140\n",
            "\n",
            "    accuracy                           0.79       497\n",
            "   macro avg       0.79      0.67      0.69       497\n",
            "weighted avg       0.79      0.79      0.77       497\n",
            "\n"
          ]
        }
      ]
    },
    {
      "cell_type": "markdown",
      "source": [
        "#### Comparing feature relevance between models"
      ],
      "metadata": {
        "id": "lF4_l2FRbmPM"
      }
    },
    {
      "cell_type": "code",
      "source": [
        "# XGBoost\n",
        "\n",
        "#xgboost.plot_importance(model)\n",
        "\n",
        "xgb_importance = xgb_model.get_booster().get_score(importance_type='gain')\n",
        "xgb_df = pd.DataFrame({'Feature': list(xgb_importance.keys()), 'XGB_Importance': list(xgb_importance.values())})\n",
        "\n",
        "feature_map = {f\"f{i}\": col for i, col in enumerate(X.columns)}\n",
        "xgb_df['Feature'] = xgb_df['Feature'].map(feature_map)\n",
        "\n",
        "top5_xgb = (\n",
        "    xgb_df.sort_values(by='XGB_Importance', ascending=False)\n",
        "    .head(5)\n",
        ")"
      ],
      "metadata": {
        "id": "Z1U9Fymyw2Z_"
      },
      "execution_count": null,
      "outputs": []
    },
    {
      "cell_type": "code",
      "source": [
        "# Logistic Regression\n",
        "\n",
        "lr_coefficients = lr_model.coef_[0]\n",
        "\n",
        "lr_df = pd.DataFrame({\n",
        "    'Feature': X.columns,\n",
        "    'Coefficient': lr_coefficients\n",
        "})\n",
        "lr_df['Absolute_Coefficient'] = lr_df['Coefficient'].abs()\n",
        "\n",
        "top5_lr = (\n",
        "    lr_df.sort_values(by='Absolute_Coefficient', ascending=False)\n",
        "    [['Feature', 'Coefficient']]\n",
        "    .head(5)\n",
        ")\n",
        "\n",
        "print(\"Logistic Regression\")\n",
        "print(top5_lr)\n",
        "print()\n",
        "\n",
        "print(\"XGBoost\")\n",
        "print(top5_xgb)\n"
      ],
      "metadata": {
        "colab": {
          "base_uri": "https://localhost:8080/"
        },
        "id": "wlTzc9r0fdVo",
        "outputId": "2bbb7ac4-85fe-445b-b276-d49959b7f416"
      },
      "execution_count": null,
      "outputs": [
        {
          "output_type": "stream",
          "name": "stdout",
          "text": [
            "Logistic Regression\n",
            "                            Feature  Coefficient\n",
            "11      total_dissolved_nitrogen_uM     0.644311\n",
            "9   particulate_organic_nitrogen_uM     0.509669\n",
            "15           total_nitrogen_TDN_PON    -0.508414\n",
            "12    total_dissolved_phosphorus_uM     0.384148\n",
            "0                     temperature_C     0.149011\n",
            "\n",
            "XGBoost\n",
            "                            Feature  XGB_Importance\n",
            "11      total_dissolved_nitrogen_uM       14.042201\n",
            "0                     temperature_C        3.103285\n",
            "6                       ammonium_uM        2.124978\n",
            "9   particulate_organic_nitrogen_uM        1.701625\n",
            "10    particulate_organic_carbon_uM        1.538726\n"
          ]
        }
      ]
    },
    {
      "cell_type": "markdown",
      "source": [
        "#### Hyperparameter tuning\n"
      ],
      "metadata": {
        "id": "cSXTIz17sPo9"
      }
    },
    {
      "cell_type": "code",
      "source": [],
      "metadata": {
        "id": "34ARAyO-sLkj"
      },
      "execution_count": null,
      "outputs": []
    },
    {
      "cell_type": "markdown",
      "source": [],
      "metadata": {
        "id": "Nw7C7mmvsCA2"
      }
    },
    {
      "cell_type": "code",
      "source": [
        "\n",
        "sm = SMOTE(random_state=42)\n",
        "\n",
        "#implementing SMOTE on training data\n",
        "X_res, y_res = sm.fit_resample(X_train, y_train)\n",
        "\n",
        "#setting our models\n",
        "model = XGBClassifier(use_label_encoder=False, eval_metric=\"logloss\")\n",
        "lr_model = LogisticRegression(max_iter=5000) # max_iter set to 5000 because of convergence\n",
        "\n",
        "#getting results from SMOTE\n",
        "model.fit(X_res, y_res)\n",
        "lr_model.fit(X_res, y_res)\n",
        "\n",
        "y_pred = model.predict(X_test)\n",
        "\n",
        "lr_expected = y_test\n",
        "lr_pred = lr_model.predict(X_test)\n",
        "\n",
        "print()\n",
        "print(\"Classification Report for XGBoost\")\n",
        "print(classification_report(y_test, y_pred))\n",
        "\n",
        "print()\n",
        "print(\"Classification Report for Logistic Regression\")\n",
        "print(classification_report(lr_expected, lr_pred))\n",
        "\n"
      ],
      "metadata": {
        "id": "90ZV6kdEGDe8",
        "colab": {
          "base_uri": "https://localhost:8080/"
        },
        "outputId": "fc1bbaf6-09ef-4969-f682-543e69ebe63b"
      },
      "execution_count": null,
      "outputs": [
        {
          "output_type": "stream",
          "name": "stderr",
          "text": [
            "/usr/local/lib/python3.11/dist-packages/xgboost/core.py:158: UserWarning: [22:50:38] WARNING: /workspace/src/learner.cc:740: \n",
            "Parameters: { \"use_label_encoder\" } are not used.\n",
            "\n",
            "  warnings.warn(smsg, UserWarning)\n"
          ]
        },
        {
          "output_type": "stream",
          "name": "stdout",
          "text": [
            "\n",
            "Classification Report for XGBoost\n",
            "              precision    recall  f1-score   support\n",
            "\n",
            "           0       0.90      0.91      0.91       357\n",
            "           1       0.77      0.75      0.76       140\n",
            "\n",
            "    accuracy                           0.87       497\n",
            "   macro avg       0.83      0.83      0.83       497\n",
            "weighted avg       0.86      0.87      0.86       497\n",
            "\n",
            "\n",
            "Classification Report for Logistic Regression\n",
            "              precision    recall  f1-score   support\n",
            "\n",
            "           0       0.90      0.80      0.84       357\n",
            "           1       0.59      0.76      0.67       140\n",
            "\n",
            "    accuracy                           0.79       497\n",
            "   macro avg       0.75      0.78      0.76       497\n",
            "weighted avg       0.81      0.79      0.79       497\n",
            "\n"
          ]
        }
      ]
    },
    {
      "cell_type": "code",
      "source": [],
      "metadata": {
        "id": "CHmBuSrjscIN"
      },
      "execution_count": null,
      "outputs": []
    }
  ]
}