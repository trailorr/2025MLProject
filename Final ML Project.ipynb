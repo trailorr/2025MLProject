{
  "cells": [
    {
      "cell_type": "markdown",
      "metadata": {
        "id": "pHnt1uc7r3Mr"
      },
      "source": [
        "## DATA COLLECTION\n"
      ]
    },
    {
      "cell_type": "code",
      "execution_count": null,
      "metadata": {
        "colab": {
          "base_uri": "https://localhost:8080/"
        },
        "id": "LDOR56_Eh5RF",
        "outputId": "d18ee898-8872-4caa-b1b5-5aa5ed934e50"
      },
      "outputs": [
        {
          "output_type": "stream",
          "name": "stdout",
          "text": [
            "Drive already mounted at /content/drive; to attempt to forcibly remount, call drive.mount(\"/content/drive\", force_remount=True).\n",
            "Requirement already satisfied: xgboost in /usr/local/lib/python3.11/dist-packages (2.1.4)\n",
            "Requirement already satisfied: numpy in /usr/local/lib/python3.11/dist-packages (from xgboost) (2.0.2)\n",
            "Requirement already satisfied: nvidia-nccl-cu12 in /usr/local/lib/python3.11/dist-packages (from xgboost) (2.21.5)\n",
            "Requirement already satisfied: scipy in /usr/local/lib/python3.11/dist-packages (from xgboost) (1.15.2)\n",
            "Requirement already satisfied: imbalanced-learn in /usr/local/lib/python3.11/dist-packages (0.13.0)\n",
            "Requirement already satisfied: numpy<3,>=1.24.3 in /usr/local/lib/python3.11/dist-packages (from imbalanced-learn) (2.0.2)\n",
            "Requirement already satisfied: scipy<2,>=1.10.1 in /usr/local/lib/python3.11/dist-packages (from imbalanced-learn) (1.15.2)\n",
            "Requirement already satisfied: scikit-learn<2,>=1.3.2 in /usr/local/lib/python3.11/dist-packages (from imbalanced-learn) (1.6.1)\n",
            "Requirement already satisfied: sklearn-compat<1,>=0.1 in /usr/local/lib/python3.11/dist-packages (from imbalanced-learn) (0.1.3)\n",
            "Requirement already satisfied: joblib<2,>=1.1.1 in /usr/local/lib/python3.11/dist-packages (from imbalanced-learn) (1.4.2)\n",
            "Requirement already satisfied: threadpoolctl<4,>=2.0.0 in /usr/local/lib/python3.11/dist-packages (from imbalanced-learn) (3.6.0)\n"
          ]
        }
      ],
      "source": [
        "from google.colab import drive\n",
        "drive.mount('/content/drive')\n",
        "\n",
        "!pip install xgboost\n",
        "!pip install imbalanced-learn\n",
        "\n",
        "import os\n",
        "import pandas as pd\n",
        "import xgboost as xgb\n",
        "import numpy as np\n",
        "import matplotlib.pyplot as plt\n",
        "\n",
        "from sklearn.impute import SimpleImputer\n",
        "from sklearn.linear_model import LogisticRegression\n",
        "from sklearn.model_selection import cross_val_score, StratifiedKFold, RandomizedSearchCV, train_test_split\n",
        "from sklearn.metrics import classification_report, precision_score, recall_score, f1_score, accuracy_score, roc_auc_score\n",
        "from sklearn.pipeline import Pipeline\n",
        "\n",
        "from xgboost import XGBClassifier\n",
        "from xgboost import plot_tree\n",
        "\n",
        "from imblearn.over_sampling import SMOTE\n"
      ]
    },
    {
      "cell_type": "markdown",
      "metadata": {
        "id": "8F9O59OSjk55"
      },
      "source": [
        "#### Loading the datasets"
      ]
    },
    {
      "cell_type": "code",
      "execution_count": null,
      "metadata": {
        "id": "_3m_cIM5i7qf"
      },
      "outputs": [],
      "source": [
        "#Had to make a copy of our folder called MLProjectLocal with only Datasets in it, otherwise it was saying file did not exist\n",
        "#dataset_path = '/content/drive/MyDrive/MLProjectLocal/Datasets'\n",
        "dataset_path = '/content/drive/MyDrive/MLProject/Datasets'\n",
        "#dataset_path = '/content/drive/MyDrive/Datasets'\n",
        "\n",
        "#List of all .csv files currently within Datasets\n",
        "csv_files = [os.path.join(dataset_path, f) for f in os.listdir(dataset_path) if f.endswith('.csv')]\n",
        "\n",
        "#Combining all stations\n",
        "df_list = []\n",
        "for file in csv_files:\n",
        "    if 'station' in file:\n",
        "      df_station = pd.read_csv(file)\n",
        "      df_list.append(df_station)\n",
        "\n",
        "df = pd.concat(df_list, ignore_index=True)"
      ]
    },
    {
      "cell_type": "markdown",
      "metadata": {
        "id": "uzF4EOdNr7Xk"
      },
      "source": [
        "## BASELINE MODEL FOR PRELIM RESULTS\n"
      ]
    },
    {
      "cell_type": "markdown",
      "metadata": {
        "id": "Do_lZ-k_sNVT"
      },
      "source": [
        "#### Model Development\n"
      ]
    },
    {
      "cell_type": "code",
      "execution_count": null,
      "metadata": {
        "id": "zMqYYi5PZVJ3"
      },
      "outputs": [],
      "source": [
        "df = df.drop(columns=[\"id\", \"internal_station_id\", \"collected_at\"])\n",
        "\n",
        "#Drop rows where the oxygen is missing\n",
        "if \"dissolved_oxygen_mg/L\" not in df.columns:\n",
        "  print(1)\n",
        "df = df.dropna(subset=[\"dissolved_oxygen_mg/L\"])\n",
        "\n",
        "#Define low-dissolved oxygen\n",
        "df[\"hypoxic\"] = (df[\"dissolved_oxygen_mg/L\"] < 7).astype(int)\n",
        "\n",
        "df = df.drop(columns=[\"dissolved_oxygen_mg/L\"])\n",
        "\n",
        "X = df.drop(columns=[\"hypoxic\"])\n",
        "y = df[\"hypoxic\"]"
      ]
    },
    {
      "cell_type": "code",
      "execution_count": null,
      "metadata": {
        "id": "fEfD8G27sTbd",
        "colab": {
          "base_uri": "https://localhost:8080/",
          "height": 705
        },
        "outputId": "94328509-22ef-4663-e846-a4e891769991"
      },
      "outputs": [
        {
          "output_type": "stream",
          "name": "stderr",
          "text": [
            "/usr/local/lib/python3.11/dist-packages/xgboost/core.py:158: UserWarning: [01:24:33] WARNING: /workspace/src/learner.cc:740: \n",
            "Parameters: { \"use_label_encoder\" } are not used.\n",
            "\n",
            "  warnings.warn(smsg, UserWarning)\n"
          ]
        },
        {
          "output_type": "display_data",
          "data": {
            "text/plain": [
              "<Figure size 2000x2000 with 0 Axes>"
            ]
          },
          "metadata": {}
        },
        {
          "output_type": "display_data",
          "data": {
            "text/plain": [
              "<Figure size 640x480 with 1 Axes>"
            ],
            "image/png": "[encoded data removed]"
          },
          "metadata": {}
        },
        {
          "output_type": "stream",
          "name": "stdout",
          "text": [
            "Classification Report for XGBoost\n",
            "              precision    recall  f1-score   support\n",
            "\n",
            "           0       0.90      0.91      0.91       372\n",
            "           1       0.73      0.69      0.71       125\n",
            "\n",
            "    accuracy                           0.86       497\n",
            "   macro avg       0.81      0.80      0.81       497\n",
            "weighted avg       0.85      0.86      0.86       497\n",
            "\n",
            "\n",
            "Holdout Test AUROC for XGBoost: 0.9176\n"
          ]
        }
      ],
      "source": [
        "#Use mean for missing data entries\n",
        "imputer = SimpleImputer(strategy=\"mean\")\n",
        "X_imputed = imputer.fit_transform(X)\n",
        "\n",
        "#Follow 80/20 split for training/testing\n",
        "X_train, X_test, y_train, y_test = train_test_split(X_imputed, y, test_size=0.2, stratify=y, random_state=42)\n",
        "\n",
        "#Train\n",
        "xgb_model = XGBClassifier(eval_metric=\"logloss\", use_label_encoder=False, random_state=42)\n",
        "xgb_model.fit(X_train, y_train)\n",
        "\n",
        "plt.figure(figsize=(20,20))\n",
        "plot_tree(xgb_model, rankdir='LR')\n",
        "plt.show()\n",
        "\n",
        "y_test_pred = xgb_model.predict(X_test)\n",
        "\n",
        "print(\"Classification Report for XGBoost\")\n",
        "print(classification_report(y_test, y_test_pred))\n",
        "# Predict probabilities for AUROC\n",
        "y_test_proba = xgb_model.predict_proba(X_test)[:, 1]  # Take probability for class 1\n",
        "\n",
        "# Compute AUROC\n",
        "test_auc = roc_auc_score(y_test, y_test_proba)\n",
        "\n",
        "print(f\"\\nHoldout Test AUROC for XGBoost: {test_auc:.4f}\")"
      ]
    },
    {
      "cell_type": "markdown",
      "metadata": {
        "id": "6cxhMH661vk7"
      },
      "source": [
        "Cross-validation"
      ]
    },
    {
      "cell_type": "code",
      "execution_count": null,
      "metadata": {
        "id": "E8iOIshd1sng",
        "colab": {
          "base_uri": "https://localhost:8080/"
        },
        "outputId": "dab51cc7-f7ab-4a24-cbbc-244959113dd7"
      },
      "outputs": [
        {
          "output_type": "stream",
          "name": "stderr",
          "text": [
            "/usr/local/lib/python3.11/dist-packages/xgboost/core.py:158: UserWarning: [01:24:43] WARNING: /workspace/src/learner.cc:740: \n",
            "Parameters: { \"use_label_encoder\" } are not used.\n",
            "\n",
            "  warnings.warn(smsg, UserWarning)\n",
            "/usr/local/lib/python3.11/dist-packages/xgboost/core.py:158: UserWarning: [01:24:46] WARNING: /workspace/src/learner.cc:740: \n",
            "Parameters: { \"use_label_encoder\" } are not used.\n",
            "\n",
            "  warnings.warn(smsg, UserWarning)\n",
            "/usr/local/lib/python3.11/dist-packages/xgboost/core.py:158: UserWarning: [01:24:46] WARNING: /workspace/src/learner.cc:740: \n",
            "Parameters: { \"use_label_encoder\" } are not used.\n",
            "\n",
            "  warnings.warn(smsg, UserWarning)\n",
            "/usr/local/lib/python3.11/dist-packages/xgboost/core.py:158: UserWarning: [01:24:46] WARNING: /workspace/src/learner.cc:740: \n",
            "Parameters: { \"use_label_encoder\" } are not used.\n",
            "\n",
            "  warnings.warn(smsg, UserWarning)\n",
            "/usr/local/lib/python3.11/dist-packages/xgboost/core.py:158: UserWarning: [01:24:46] WARNING: /workspace/src/learner.cc:740: \n",
            "Parameters: { \"use_label_encoder\" } are not used.\n",
            "\n",
            "  warnings.warn(smsg, UserWarning)\n"
          ]
        },
        {
          "output_type": "stream",
          "name": "stdout",
          "text": [
            "\n",
            "Cross-Validation Summary:\n",
            "   Fold  Precision  Recall  F1-Score\n",
            "0     1   0.733945   0.640  0.683761\n",
            "1     2   0.781818   0.688  0.731915\n",
            "2     3   0.841121   0.720  0.775862\n",
            "3     4   0.758621   0.704  0.730290\n",
            "4     5   0.778761   0.704  0.739496\n",
            "\n",
            "Average Precision: 0.77885327657516\n",
            "Average Recall: 0.6911999999999999\n",
            "Average F1-Score: 0.7322647802188171\n"
          ]
        }
      ],
      "source": [
        "#Define model\n",
        "model = XGBClassifier(eval_metric=\"logloss\", use_label_encoder=False, random_state=42)\n",
        "\n",
        "#Define Stratified K-Fold cross-validator\n",
        "cv = StratifiedKFold(n_splits=5, shuffle=True, random_state=42)\n",
        "\n",
        "precision_scores = []\n",
        "recall_scores = []\n",
        "f1_scores = []\n",
        "\n",
        "fold = 1\n",
        "for train_index, test_index in cv.split(X_imputed, y):\n",
        "    X_train, X_test = X_imputed[train_index], X_imputed[test_index]\n",
        "    y_train, y_test = y.iloc[train_index], y.iloc[test_index]\n",
        "\n",
        "    # Fit model\n",
        "    model.fit(X_train, y_train)\n",
        "\n",
        "    # Predict\n",
        "    y_pred = model.predict(X_test)\n",
        "\n",
        "    # Store scores for positive class (hypoxic = 1)\n",
        "    precision = precision_score(y_test, y_pred, pos_label=1, zero_division=0)\n",
        "    recall = recall_score(y_test, y_pred, pos_label=1, zero_division=0)\n",
        "    f1 = f1_score(y_test, y_pred, pos_label=1, zero_division=0)\n",
        "\n",
        "    precision_scores.append(precision)\n",
        "    recall_scores.append(recall)\n",
        "    f1_scores.append(f1)\n",
        "\n",
        "    # print classification report\n",
        "    #print(f\"\\nFold {fold} Classification Report:\")\n",
        "    #print(classification_report(y_test, y_pred))\n",
        "\n",
        "    fold += 1\n",
        "\n",
        "summary_df = pd.DataFrame({\n",
        "    'Fold': list(range(1, 6)),\n",
        "    'Precision': precision_scores,\n",
        "    'Recall': recall_scores,\n",
        "    'F1-Score': f1_scores\n",
        "})\n",
        "\n",
        "print(\"\\nCross-Validation Summary:\")\n",
        "print(summary_df)\n",
        "print(\"\\nAverage Precision:\", np.mean(precision_scores))\n",
        "print(\"Average Recall:\", np.mean(recall_scores))\n",
        "print(\"Average F1-Score:\", np.mean(f1_scores))\n"
      ]
    },
    {
      "cell_type": "markdown",
      "metadata": {
        "id": "ilQAprug-jxC"
      },
      "source": [
        "#### Logistic Regression"
      ]
    },
    {
      "cell_type": "code",
      "execution_count": null,
      "metadata": {
        "id": "A9m0BL3l-jFh",
        "colab": {
          "base_uri": "https://localhost:8080/"
        },
        "outputId": "a22c69d7-82ad-4c0f-8d42-6d9b1ef4b41f"
      },
      "outputs": [
        {
          "output_type": "stream",
          "name": "stdout",
          "text": [
            "\n",
            "Classification Report for Logistic Regression\n",
            "              precision    recall  f1-score   support\n",
            "\n",
            "           0       0.83      0.95      0.89       371\n",
            "           1       0.76      0.43      0.55       125\n",
            "\n",
            "    accuracy                           0.82       496\n",
            "   macro avg       0.80      0.69      0.72       496\n",
            "weighted avg       0.81      0.82      0.80       496\n",
            "\n",
            "\n",
            "Holdout Test AUROC for Logistic Regression: 0.8349\n"
          ]
        }
      ],
      "source": [
        "lr_model = LogisticRegression(max_iter=5000) # max_iter set to 5000 because of convergence\n",
        "\n",
        "lr_model.fit(X_train, y_train)\n",
        "\n",
        "lr_expected = y_test\n",
        "lr_pred = lr_model.predict(X_test)\n",
        "\n",
        "print()\n",
        "print(\"Classification Report for Logistic Regression\")\n",
        "print(classification_report(lr_expected, lr_pred))\n",
        "# Predict probabilities for AUROC\n",
        "lr_proba = lr_model.predict_proba(X_test)[:, 1]  # Probability for class 1\n",
        "\n",
        "# Compute AUROC\n",
        "lr_auc = roc_auc_score(lr_expected, lr_proba)\n",
        "\n",
        "print(f\"\\nHoldout Test AUROC for Logistic Regression: {lr_auc:.4f}\")\n"
      ]
    },
    {
      "cell_type": "markdown",
      "metadata": {
        "id": "lF4_l2FRbmPM"
      },
      "source": [
        "#### Comparing feature relevance between models"
      ]
    },
    {
      "cell_type": "code",
      "execution_count": null,
      "metadata": {
        "id": "Z1U9Fymyw2Z_"
      },
      "outputs": [],
      "source": [
        "# XGBoost\n",
        "\n",
        "#xgboost.plot_importance(model)\n",
        "\n",
        "xgb_importance = xgb_model.get_booster().get_score(importance_type='gain')\n",
        "xgb_df = pd.DataFrame({'Feature': list(xgb_importance.keys()), 'XGB_Importance': list(xgb_importance.values())})\n",
        "\n",
        "feature_map = {f\"f{i}\": col for i, col in enumerate(X.columns)}\n",
        "xgb_df['Feature'] = xgb_df['Feature'].map(feature_map)\n",
        "\n",
        "top5_xgb = (\n",
        "    xgb_df.sort_values(by='XGB_Importance', ascending=False)\n",
        "    .head(5)\n",
        ")"
      ]
    },
    {
      "cell_type": "code",
      "execution_count": null,
      "metadata": {
        "id": "wlTzc9r0fdVo"
      },
      "outputs": [],
      "source": [
        "# Logistic Regression\n",
        "\n",
        "lr_coefficients = lr_model.coef_[0]\n",
        "\n",
        "lr_df = pd.DataFrame({\n",
        "    'Feature': X.columns,\n",
        "    'Coefficient': lr_coefficients\n",
        "})\n",
        "lr_df['Absolute_Coefficient'] = lr_df['Coefficient'].abs()\n",
        "\n",
        "top5_lr = (\n",
        "    lr_df.sort_values(by='Absolute_Coefficient', ascending=False)\n",
        "    [['Feature', 'Coefficient']]\n",
        "    .head(5)\n",
        ")\n"
      ]
    },
    {
      "cell_type": "code",
      "execution_count": null,
      "metadata": {
        "id": "kHUNZsrS5X_h",
        "colab": {
          "base_uri": "https://localhost:8080/"
        },
        "outputId": "5be5ac8b-43fd-4106-ce28-c892e04f2261"
      },
      "outputs": [
        {
          "output_type": "stream",
          "name": "stderr",
          "text": [
            "/usr/local/lib/python3.11/dist-packages/xgboost/core.py:158: UserWarning: [01:24:50] WARNING: /workspace/src/learner.cc:740: \n",
            "Parameters: { \"use_label_encoder\" } are not used.\n",
            "\n",
            "  warnings.warn(smsg, UserWarning)\n",
            "/usr/local/lib/python3.11/dist-packages/xgboost/core.py:158: UserWarning: [01:24:51] WARNING: /workspace/src/learner.cc:740: \n",
            "Parameters: { \"use_label_encoder\" } are not used.\n",
            "\n",
            "  warnings.warn(smsg, UserWarning)\n",
            "/usr/local/lib/python3.11/dist-packages/xgboost/core.py:158: UserWarning: [01:24:52] WARNING: /workspace/src/learner.cc:740: \n",
            "Parameters: { \"use_label_encoder\" } are not used.\n",
            "\n",
            "  warnings.warn(smsg, UserWarning)\n"
          ]
        }
      ],
      "source": [
        "#XGBoost with cross-validation\n",
        "feature_importances_list = []\n",
        "\n",
        "for train_index, test_index in cv.split(X_imputed, y):\n",
        "    X_train, X_test = X_imputed[train_index], X_imputed[test_index]\n",
        "    y_train, y_test = y.iloc[train_index], y.iloc[test_index]\n",
        "\n",
        "    model.fit(X_train, y_train)\n",
        "\n",
        "    booster = model.get_booster()\n",
        "    fold_importance = booster.get_score(importance_type='gain')\n",
        "\n",
        "    feature_map = {f\"f{i}\": col for i, col in enumerate(X.columns)}\n",
        "    mapped_importance = {feature_map[k]: v for k, v in fold_importance.items()}\n",
        "\n",
        "    feature_importances_list.append(mapped_importance)\n",
        "\n",
        "importance_df = pd.DataFrame(feature_importances_list).fillna(0)\n",
        "\n",
        "# Average across folds\n",
        "avg_importance = importance_df.mean().reset_index()\n",
        "avg_importance.columns = ['Feature', 'XGB_Importance']\n",
        "\n",
        "\n",
        "top5_xgb_cv = avg_importance.sort_values(by='XGB_Importance', ascending=False).head(5)\n"
      ]
    },
    {
      "cell_type": "code",
      "execution_count": null,
      "metadata": {
        "id": "DQT8fouj5pwd",
        "colab": {
          "base_uri": "https://localhost:8080/"
        },
        "outputId": "1ec7ee9d-c55c-4307-d131-fa50e477dce5"
      },
      "outputs": [
        {
          "output_type": "stream",
          "name": "stdout",
          "text": [
            "Logistic Regression\n",
            "                            Feature  Coefficient\n",
            "11      total_dissolved_nitrogen_uM     0.579655\n",
            "9   particulate_organic_nitrogen_uM     0.450856\n",
            "15           total_nitrogen_TDN_PON    -0.447329\n",
            "12    total_dissolved_phosphorus_uM     0.292239\n",
            "7                ortho_phosphate_uM    -0.188870\n",
            "\n",
            "XGBoost\n",
            "                            Feature  XGB_Importance\n",
            "11      total_dissolved_nitrogen_uM       12.596946\n",
            "0                     temperature_C        3.212451\n",
            "12    total_dissolved_phosphorus_uM        2.129850\n",
            "6                       ammonium_uM        1.959396\n",
            "9   particulate_organic_nitrogen_uM        1.656487\n",
            "\n",
            "XGBoost with Cross-Validation\n",
            "                            Feature  XGB_Importance\n",
            "11      total_dissolved_nitrogen_uM       14.313536\n",
            "0                     temperature_C        3.300815\n",
            "9   particulate_organic_nitrogen_uM        1.914974\n",
            "6                       ammonium_uM        1.888416\n",
            "12    total_dissolved_phosphorus_uM        1.671789\n"
          ]
        }
      ],
      "source": [
        "print(\"Logistic Regression\")\n",
        "print(top5_lr)\n",
        "print()\n",
        "\n",
        "print(\"XGBoost\")\n",
        "print(top5_xgb)\n",
        "print()\n",
        "\n",
        "print(\"XGBoost with Cross-Validation\")\n",
        "print(top5_xgb_cv)"
      ]
    },
    {
      "cell_type": "markdown",
      "metadata": {
        "id": "cSXTIz17sPo9"
      },
      "source": [
        "#### Hyperparameter tuning\n"
      ]
    },
    {
      "cell_type": "markdown",
      "metadata": {
        "id": "Nw7C7mmvsCA2"
      },
      "source": [
        "#### Implementing SMOTE"
      ]
    },
    {
      "cell_type": "code",
      "execution_count": null,
      "metadata": {
        "id": "90ZV6kdEGDe8",
        "colab": {
          "base_uri": "https://localhost:8080/"
        },
        "outputId": "8e256f84-3a3a-43a0-d2c8-9ce4babfb7ab"
      },
      "outputs": [
        {
          "output_type": "stream",
          "name": "stderr",
          "text": [
            "/usr/local/lib/python3.11/dist-packages/xgboost/core.py:158: UserWarning: [01:24:57] WARNING: /workspace/src/learner.cc:740: \n",
            "Parameters: { \"use_label_encoder\" } are not used.\n",
            "\n",
            "  warnings.warn(smsg, UserWarning)\n",
            "/usr/local/lib/python3.11/dist-packages/xgboost/core.py:158: UserWarning: [01:25:02] WARNING: /workspace/src/learner.cc:740: \n",
            "Parameters: { \"use_label_encoder\" } are not used.\n",
            "\n",
            "  warnings.warn(smsg, UserWarning)\n",
            "/usr/local/lib/python3.11/dist-packages/xgboost/core.py:158: UserWarning: [01:25:03] WARNING: /workspace/src/learner.cc:740: \n",
            "Parameters: { \"use_label_encoder\" } are not used.\n",
            "\n",
            "  warnings.warn(smsg, UserWarning)\n",
            "/usr/local/lib/python3.11/dist-packages/xgboost/core.py:158: UserWarning: [01:25:03] WARNING: /workspace/src/learner.cc:740: \n",
            "Parameters: { \"use_label_encoder\" } are not used.\n",
            "\n",
            "  warnings.warn(smsg, UserWarning)\n",
            "/usr/local/lib/python3.11/dist-packages/xgboost/core.py:158: UserWarning: [01:25:03] WARNING: /workspace/src/learner.cc:740: \n",
            "Parameters: { \"use_label_encoder\" } are not used.\n",
            "\n",
            "  warnings.warn(smsg, UserWarning)\n",
            "/usr/local/lib/python3.11/dist-packages/xgboost/core.py:158: UserWarning: [01:25:03] WARNING: /workspace/src/learner.cc:740: \n",
            "Parameters: { \"use_label_encoder\" } are not used.\n",
            "\n",
            "  warnings.warn(smsg, UserWarning)\n"
          ]
        },
        {
          "output_type": "stream",
          "name": "stdout",
          "text": [
            "\n",
            "Classification Report for XGBoost\n",
            "              precision    recall  f1-score   support\n",
            "\n",
            "           0       0.90      0.89      0.90       372\n",
            "           1       0.68      0.72      0.70       125\n",
            "\n",
            "    accuracy                           0.85       497\n",
            "   macro avg       0.79      0.80      0.80       497\n",
            "weighted avg       0.85      0.85      0.85       497\n",
            "\n",
            "\n",
            "Classification Report for Logistic Regression\n",
            "              precision    recall  f1-score   support\n",
            "\n",
            "           0       0.89      0.77      0.83       372\n",
            "           1       0.51      0.73      0.60       125\n",
            "\n",
            "    accuracy                           0.76       497\n",
            "   macro avg       0.70      0.75      0.71       497\n",
            "weighted avg       0.80      0.76      0.77       497\n",
            "\n",
            "\n",
            "Cross-Validation Precision: 0.7094376788828993\n",
            "Cross-Validation Recall: 0.7664\n",
            "Cross-Validation F1-Score: 0.7366159223706308\n",
            "\n",
            "AUROC for SMOTE XGBoost model: 0.9109\n",
            "AUROC for SMOTE Logistic Regression model: 0.8240\n"
          ]
        }
      ],
      "source": [
        "#Resplitting for a new train/test split in SMOTE\n",
        "\n",
        "X_train, X_test, y_train, y_test = train_test_split(X_imputed, y, test_size=0.2, stratify=y, random_state=42)\n",
        "sm = SMOTE(random_state=42)\n",
        "\n",
        "#Implementing SMOTE on the new training data\n",
        "X_res, y_res = sm.fit_resample(X_train, y_train)\n",
        "\n",
        "#Setting our models\n",
        "smote_xgb_model = XGBClassifier(eval_metric=\"logloss\", use_label_encoder=False, random_state=42)\n",
        "smote_lr_model = LogisticRegression(max_iter=5000) # max_iter set to 5000 because of convergence\n",
        "\n",
        "#Results from SMOTE\n",
        "smote_xgb_model.fit(X_res, y_res)\n",
        "smote_lr_model.fit(X_res, y_res)\n",
        "\n",
        "smote_y_pred = smote_xgb_model.predict(X_test)\n",
        "\n",
        "smote_lr_expected = y_test\n",
        "smote_lr_pred = smote_lr_model.predict(X_test)\n",
        "\n",
        "# XGBoost with cross-validation\n",
        "cv = StratifiedKFold(n_splits=5, shuffle=True, random_state=42)\n",
        "\n",
        "cv_precision = []\n",
        "cv_recall = []\n",
        "cv_f1 = []\n",
        "\n",
        "for train_index, test_index in cv.split(X_imputed, y):\n",
        "    X_train_fold, X_test_fold = X_imputed[train_index], X_imputed[test_index]\n",
        "    y_train_fold, y_test_fold = y.iloc[train_index], y.iloc[test_index]\n",
        "\n",
        "    # SMOTE inside each fold\n",
        "    sm = SMOTE(random_state=42)\n",
        "    X_train_fold_res, y_train_fold_res = sm.fit_resample(X_train_fold, y_train_fold)\n",
        "\n",
        "    smote_xgb_model_cv = XGBClassifier(eval_metric=\"logloss\", use_label_encoder=False, random_state=42)\n",
        "    smote_xgb_model_cv.fit(X_train_fold_res, y_train_fold_res)\n",
        "    smote_y_pred_fold = smote_xgb_model_cv.predict(X_test_fold)\n",
        "\n",
        "    cv_precision.append(precision_score(y_test_fold, smote_y_pred_fold, pos_label=1, zero_division=0))\n",
        "    cv_recall.append(recall_score(y_test_fold, smote_y_pred_fold, pos_label=1, zero_division=0))\n",
        "    cv_f1.append(f1_score(y_test_fold, smote_y_pred_fold, pos_label=1, zero_division=0))\n",
        "\n",
        "print()\n",
        "print(\"Classification Report for XGBoost\")\n",
        "print(classification_report(y_test, smote_y_pred))\n",
        "\n",
        "print()\n",
        "print(\"Classification Report for Logistic Regression\")\n",
        "print(classification_report(smote_lr_expected, smote_lr_pred))\n",
        "\n",
        "print()\n",
        "print(\"Cross-Validation Precision:\", np.mean(cv_precision))\n",
        "print(\"Cross-Validation Recall:\", np.mean(cv_recall))\n",
        "print(\"Cross-Validation F1-Score:\", np.mean(cv_f1))\n",
        "# Predict probabilities\n",
        "smote_xgb_proba = smote_xgb_model.predict_proba(X_test)[:, 1]  # Probability for class 1\n",
        "smote_lr_proba = smote_lr_model.predict_proba(X_test)[:, 1]    # Same here\n",
        "\n",
        "# Calculate AUROC\n",
        "xgb_auc = roc_auc_score(y_test, smote_xgb_proba)\n",
        "lr_auc = roc_auc_score(smote_lr_expected, smote_lr_proba)\n",
        "\n",
        "print()\n",
        "print(f\"AUROC for SMOTE XGBoost model: {xgb_auc:.4f}\")\n",
        "print(f\"AUROC for SMOTE Logistic Regression model: {lr_auc:.4f}\")\n",
        "\n"
      ]
    },
    {
      "cell_type": "code",
      "execution_count": null,
      "metadata": {
        "id": "gI90PfrVPxyr",
        "colab": {
          "base_uri": "https://localhost:8080/"
        },
        "outputId": "e6888e76-3c19-49a3-bba2-5cf869c2ccb7"
      },
      "outputs": [
        {
          "output_type": "stream",
          "name": "stdout",
          "text": [
            "Fitting 5 folds for each of 30 candidates, totalling 150 fits\n",
            "Best hyperparameters: {'xgb__subsample': 0.8, 'xgb__scale_pos_weight': 1, 'xgb__reg_lambda': 1, 'xgb__reg_alpha': 1, 'xgb__n_estimators': 500, 'xgb__max_depth': 8, 'xgb__learning_rate': 0.01, 'xgb__gamma': 0.5, 'xgb__colsample_bytree': 0.8}\n",
            "Best CV Score: 0.9150502275164479\n",
            "\n",
            "Classification Report for XGBoost (with tuned hyperparams):\n",
            "              precision    recall  f1-score   support\n",
            "\n",
            "           0       0.87      0.92      0.90       372\n",
            "           1       0.72      0.58      0.65       125\n",
            "\n",
            "    accuracy                           0.84       497\n",
            "   macro avg       0.80      0.75      0.77       497\n",
            "weighted avg       0.83      0.84      0.83       497\n",
            "\n",
            "\n",
            "Holdout Test AUROC: 0.9211\n"
          ]
        }
      ],
      "source": [
        "\n",
        "# 1. Prepare X, y\n",
        "X = df.drop(columns=[\"hypoxic\"])\n",
        "y = df[\"hypoxic\"]\n",
        "\n",
        "# 2. Build a pipeline with imputation + classifier\n",
        "pipeline = Pipeline([\n",
        "    (\"imputer\", SimpleImputer(strategy=\"mean\")),\n",
        "    (\"xgb\", XGBClassifier(\n",
        "        use_label_encoder=False,\n",
        "        eval_metric=\"logloss\",\n",
        "        random_state=42,\n",
        "        verbosity=0\n",
        "    ))\n",
        "])\n",
        "\n",
        "# 3. Parameter distribution\n",
        "param_dist = {\n",
        "    \"xgb__learning_rate\":    [0.01, 0.05, 0.1, 0.2],\n",
        "    \"xgb__n_estimators\":     [100, 200, 500, 1000],\n",
        "    \"xgb__max_depth\":        [3, 4, 6, 8],\n",
        "    \"xgb__subsample\":        [0.6, 0.8, 1.0],\n",
        "    \"xgb__colsample_bytree\": [0.6, 0.8, 1.0],\n",
        "    \"xgb__gamma\":            [0, 0.1, 0.5, 1],\n",
        "    \"xgb__reg_alpha\":        [0, 0.1, 1, 5],\n",
        "    \"xgb__reg_lambda\":       [1, 5, 10],\n",
        "    # (optional) to help with imbalance:\n",
        "    \"xgb__scale_pos_weight\": [1, (len(y)-y.sum())/y.sum()]\n",
        "}\n",
        "\n",
        "# 4. Stratified CV\n",
        "cv = StratifiedKFold(n_splits=5, shuffle=True, random_state=42)\n",
        "\n",
        "# 5. Randomized search\n",
        "search = RandomizedSearchCV(\n",
        "    estimator=pipeline,\n",
        "    param_distributions=param_dist,\n",
        "    n_iter=30,\n",
        "    scoring=\"roc_auc\",       # or \"accuracy\", \"f1\", etc.\n",
        "    cv=cv,\n",
        "    verbose=1,\n",
        "    n_jobs=-1,\n",
        "    random_state=42\n",
        ")\n",
        "\n",
        "# 6. Fit and inspect best params\n",
        "search.fit(X_imputed, y)\n",
        "print(\"Best hyperparameters:\", search.best_params_)\n",
        "print(\"Best CV Score:\", search.best_score_)\n",
        "\n",
        "# 7. Evaluate on a hold-out test set\n",
        "X_train, X_test, y_train, y_test = train_test_split(\n",
        "    X_imputed, y, test_size=0.2, stratify=y, random_state=42\n",
        ")\n",
        "\n",
        "best_model = search.best_estimator_\n",
        "best_model.fit(X_train, y_train)\n",
        "y_pred = best_model.predict(X_test)\n",
        "\n",
        "print(\"\\nClassification Report for XGBoost (with tuned hyperparams):\")\n",
        "print(classification_report(y_test, y_pred))\n",
        "# Predict probabilities for AUROC\n",
        "y_proba = best_model.predict_proba(X_test)[:, 1]  # Take probability of class 1\n",
        "\n",
        "# Compute AUROC\n",
        "test_auc = roc_auc_score(y_test, y_proba)\n",
        "\n",
        "print(f\"\\nHoldout Test AUROC: {test_auc:.4f}\")\n"
      ]
    },
    {
      "cell_type": "code",
      "source": [
        "\n",
        "# 1. Your feature matrix and target\n",
        "X = df.drop(columns=[\"hypoxic\"])\n",
        "y = df[\"hypoxic\"]\n",
        "\n",
        "# 2. Pipeline: Impute → SMOTE → XGBoost\n",
        "pipeline = Pipeline([\n",
        "    (\"imputer\", SimpleImputer(strategy=\"mean\")),\n",
        "    (\"smote\", SMOTE(random_state=42)),\n",
        "    (\"xgb\", XGBClassifier(\n",
        "        use_label_encoder=False,\n",
        "        eval_metric=\"logloss\",\n",
        "        random_state=42,\n",
        "        verbosity=0\n",
        "    ))\n",
        "])\n",
        "\n",
        "# 3. Parameter grid (for the XGBoost step)\n",
        "param_dist = {\n",
        "    \"xgb__learning_rate\":    [0.01, 0.05, 0.1, 0.2],\n",
        "    \"xgb__n_estimators\":     [100, 200, 500, 1000],\n",
        "    \"xgb__max_depth\":        [3, 4, 6, 8],\n",
        "    \"xgb__subsample\":        [0.6, 0.8, 1.0],\n",
        "    \"xgb__colsample_bytree\": [0.6, 0.8, 1.0],\n",
        "    \"xgb__gamma\":            [0, 0.1, 0.5, 1],\n",
        "    \"xgb__reg_alpha\":        [0, 0.1, 1, 5],\n",
        "    \"xgb__reg_lambda\":       [1, 5, 10],\n",
        "    # You don't usually tune SMOTE inside here, but you could if you wanted to\n",
        "}\n",
        "\n",
        "# 4. Stratified CV\n",
        "cv = StratifiedKFold(n_splits=5, shuffle=True, random_state=42)\n",
        "\n",
        "# 5. RandomizedSearchCV\n",
        "search = RandomizedSearchCV(\n",
        "    estimator=pipeline,\n",
        "    param_distributions=param_dist,\n",
        "    n_iter=30,\n",
        "    scoring=\"roc_auc\",\n",
        "    cv=cv,\n",
        "    verbose=1,\n",
        "    n_jobs=-1,\n",
        "    random_state=42\n",
        ")\n",
        "\n",
        "# 6. Fit\n",
        "search.fit(X, y)\n",
        "\n",
        "print(\"Best Hyperparameters:\", search.best_params_)\n",
        "print(\"Best CV Score:\", search.best_score_)\n"
      ],
      "metadata": {
        "id": "K-QaY3zVpDVs",
        "colab": {
          "base_uri": "https://localhost:8080/"
        },
        "outputId": "c06c82c3-1bc7-4e6b-ae9d-c337ac7ee1c9"
      },
      "execution_count": null,
      "outputs": [
        {
          "output_type": "stream",
          "name": "stdout",
          "text": [
            "Fitting 5 folds for each of 30 candidates, totalling 150 fits\n",
            "Best Hyperparameters: {'xgb__subsample': 1.0, 'xgb__reg_lambda': 5, 'xgb__reg_alpha': 1, 'xgb__n_estimators': 1000, 'xgb__max_depth': 6, 'xgb__learning_rate': 0.2, 'xgb__gamma': 0, 'xgb__colsample_bytree': 0.8}\n",
            "Best CV Score: 0.914286409877402\n"
          ]
        }
      ]
    },
    {
      "cell_type": "code",
      "source": [
        "X_train, X_test, y_train, y_test = train_test_split(\n",
        "    X, y, test_size=0.2, stratify=y, random_state=42\n",
        ")\n",
        "\n",
        "# 8. Refit the best model\n",
        "best_model = search.best_estimator_\n",
        "best_model.fit(X_train, y_train)\n",
        "\n",
        "# 9. Predict on the holdout test set\n",
        "y_pred = best_model.predict(X_test)\n",
        "y_proba = best_model.predict_proba(X_test)[:, 1]  # Probabilities for class 1\n",
        "\n",
        "# 10. Compute AUROC\n",
        "test_auc = roc_auc_score(y_test, y_proba)\n",
        "\n",
        "# 11. Print metrics\n",
        "print(\"\\nClassification Report for XGBoost (with tuned hyperparams):\")\n",
        "print(classification_report(y_test, y_pred))\n",
        "print(f\"Holdout Test AUROC: {test_auc:.4f}\")"
      ],
      "metadata": {
        "id": "R70-kOQ-qAx_",
        "colab": {
          "base_uri": "https://localhost:8080/"
        },
        "outputId": "29eb2f70-3ea0-4232-84be-040d35dd576e"
      },
      "execution_count": null,
      "outputs": [
        {
          "output_type": "stream",
          "name": "stdout",
          "text": [
            "\n",
            "Classification Report for XGBoost (with tuned hyperparams):\n",
            "              precision    recall  f1-score   support\n",
            "\n",
            "           0       0.91      0.88      0.90       372\n",
            "           1       0.68      0.74      0.71       125\n",
            "\n",
            "    accuracy                           0.85       497\n",
            "   macro avg       0.80      0.81      0.80       497\n",
            "weighted avg       0.85      0.85      0.85       497\n",
            "\n",
            "Holdout Test AUROC: 0.9233\n"
          ]
        }
      ]
    },
    {
      "cell_type": "code",
      "source": [
        "\n",
        "# Pipeline: SMOTE + Logistic Regression\n",
        "lr_pipeline = Pipeline([\n",
        "    (\"smote\", SMOTE(random_state=42)),\n",
        "    (\"lr\", LogisticRegression(max_iter=5000, solver='saga', random_state=42))  # saga solver supports all penalties\n",
        "])\n",
        "\n",
        "# Hyperparameter grid\n",
        "param_dist_lr = {\n",
        "    \"lr__penalty\": [\"l1\", \"l2\", \"elasticnet\"],\n",
        "    \"lr__C\": [0.001, 0.01, 0.1, 1, 10, 100],\n",
        "    \"lr__l1_ratio\": [0, 0.25, 0.5, 0.75, 1.0]  # Only used if penalty = elasticnet\n",
        "}\n",
        "# Cross-validation folds\n",
        "cv = StratifiedKFold(n_splits=5, shuffle=True, random_state=42)\n",
        "\n",
        "# RandomizedSearchCV\n",
        "search_lr = RandomizedSearchCV(\n",
        "    estimator=lr_pipeline,\n",
        "    param_distributions=param_dist_lr,\n",
        "    n_iter=30,\n",
        "    scoring=\"roc_auc\",\n",
        "    n_jobs=-1,\n",
        "    cv=cv,\n",
        "    verbose=1,\n",
        "    random_state=42\n",
        ")\n",
        "# Train RandomizedSearchCV on original X_train/y_train (before SMOTE!)\n",
        "#search_lr.fit(X_train, y_train)\n",
        "search_lr.fit(X_imputed, y)\n",
        "\n",
        "print(\"Best hyperparameters for Logistic Regression:\", search_lr.best_params_)\n",
        "print(\"Best CV AUROC:\", search_lr.best_score_)\n",
        "# Predict on X_test\n",
        "lr_best_model = search_lr.best_estimator_\n",
        "lr_pred = lr_best_model.predict(X_test)\n",
        "lr_proba = lr_best_model.predict_proba(X_test)[:, 1]\n",
        "\n",
        "# Evaluate\n",
        "print(\"\\nClassification Report for Tuned Logistic Regression\")\n",
        "print(classification_report(y_test, lr_pred))\n",
        "\n",
        "lr_auc = roc_auc_score(y_test, lr_proba)\n",
        "print(f\"Holdout Test AUROC for Tuned Logistic Regression: {lr_auc:.4f}\")\n"
      ],
      "metadata": {
        "id": "VaTqFEqlswDX",
        "colab": {
          "base_uri": "https://localhost:8080/",
          "height": 591
        },
        "outputId": "0d1c46ec-b9d9-41ab-92ed-6346752881bc"
      },
      "execution_count": null,
      "outputs": [
        {
          "output_type": "stream",
          "name": "stdout",
          "text": [
            "Fitting 5 folds for each of 30 candidates, totalling 150 fits\n"
          ]
        },
        {
          "output_type": "stream",
          "name": "stderr",
          "text": [
            "/usr/local/lib/python3.11/dist-packages/sklearn/linear_model/_logistic.py:1196: UserWarning: l1_ratio parameter is only used when penalty is 'elasticnet'. Got (penalty=l2)\n",
            "  warnings.warn(\n"
          ]
        },
        {
          "output_type": "stream",
          "name": "stdout",
          "text": [
            "Best hyperparameters for Logistic Regression: {'lr__penalty': 'l2', 'lr__l1_ratio': 0.75, 'lr__C': 1}\n",
            "Best CV AUROC: 0.8271182216039186\n"
          ]
        },
        {
          "output_type": "stream",
          "name": "stderr",
          "text": [
            "/usr/local/lib/python3.11/dist-packages/sklearn/utils/validation.py:2732: UserWarning: X has feature names, but LogisticRegression was fitted without feature names\n",
            "  warnings.warn(\n"
          ]
        },
        {
          "output_type": "error",
          "ename": "ValueError",
          "evalue": "Input X contains NaN.\nLogisticRegression does not accept missing values encoded as NaN natively. For supervised learning, you might want to consider sklearn.ensemble.HistGradientBoostingClassifier and Regressor which accept missing values encoded as NaNs natively. Alternatively, it is possible to preprocess the data, for instance by using an imputer transformer in a pipeline or drop samples with missing values. See https://scikit-learn.org/stable/modules/impute.html You can find a list of all estimators that handle NaN values at the following page: https://scikit-learn.org/stable/modules/impute.html#estimators-that-handle-nan-values",
          "traceback": [
            "\u001b[0;31m---------------------------------------------------------------------------\u001b[0m",
            "\u001b[0;31mValueError\u001b[0m                                Traceback (most recent call last)",
            "\u001b[0;32m<ipython-input-24-694d403f100a>\u001b[0m in \u001b[0;36m<cell line: 0>\u001b[0;34m()\u001b[0m\n\u001b[1;32m     35\u001b[0m \u001b[0;31m# Predict on X_test\u001b[0m\u001b[0;34m\u001b[0m\u001b[0;34m\u001b[0m\u001b[0m\n\u001b[1;32m     36\u001b[0m \u001b[0mlr_best_model\u001b[0m \u001b[0;34m=\u001b[0m \u001b[0msearch_lr\u001b[0m\u001b[0;34m.\u001b[0m\u001b[0mbest_estimator_\u001b[0m\u001b[0;34m\u001b[0m\u001b[0;34m\u001b[0m\u001b[0m\n\u001b[0;32m---> 37\u001b[0;31m \u001b[0mlr_pred\u001b[0m \u001b[0;34m=\u001b[0m \u001b[0mlr_best_model\u001b[0m\u001b[0;34m.\u001b[0m\u001b[0mpredict\u001b[0m\u001b[0;34m(\u001b[0m\u001b[0mX_test\u001b[0m\u001b[0;34m)\u001b[0m\u001b[0;34m\u001b[0m\u001b[0;34m\u001b[0m\u001b[0m\n\u001b[0m\u001b[1;32m     38\u001b[0m \u001b[0mlr_proba\u001b[0m \u001b[0;34m=\u001b[0m \u001b[0mlr_best_model\u001b[0m\u001b[0;34m.\u001b[0m\u001b[0mpredict_proba\u001b[0m\u001b[0;34m(\u001b[0m\u001b[0mX_test\u001b[0m\u001b[0;34m)\u001b[0m\u001b[0;34m[\u001b[0m\u001b[0;34m:\u001b[0m\u001b[0;34m,\u001b[0m \u001b[0;36m1\u001b[0m\u001b[0;34m]\u001b[0m\u001b[0;34m\u001b[0m\u001b[0;34m\u001b[0m\u001b[0m\n\u001b[1;32m     39\u001b[0m \u001b[0;34m\u001b[0m\u001b[0m\n",
            "\u001b[0;32m/usr/local/lib/python3.11/dist-packages/imblearn/pipeline.py\u001b[0m in \u001b[0;36mpredict\u001b[0;34m(self, X, **params)\u001b[0m\n\u001b[1;32m    657\u001b[0m                 \u001b[0;32mfor\u001b[0m \u001b[0m_\u001b[0m\u001b[0;34m,\u001b[0m \u001b[0mname\u001b[0m\u001b[0;34m,\u001b[0m \u001b[0mtransform\u001b[0m \u001b[0;32min\u001b[0m \u001b[0mself\u001b[0m\u001b[0;34m.\u001b[0m\u001b[0m_iter\u001b[0m\u001b[0;34m(\u001b[0m\u001b[0mwith_final\u001b[0m\u001b[0;34m=\u001b[0m\u001b[0;32mFalse\u001b[0m\u001b[0;34m)\u001b[0m\u001b[0;34m:\u001b[0m\u001b[0;34m\u001b[0m\u001b[0;34m\u001b[0m\u001b[0m\n\u001b[1;32m    658\u001b[0m                     \u001b[0mXt\u001b[0m \u001b[0;34m=\u001b[0m \u001b[0mtransform\u001b[0m\u001b[0;34m.\u001b[0m\u001b[0mtransform\u001b[0m\u001b[0;34m(\u001b[0m\u001b[0mXt\u001b[0m\u001b[0;34m)\u001b[0m\u001b[0;34m\u001b[0m\u001b[0;34m\u001b[0m\u001b[0m\n\u001b[0;32m--> 659\u001b[0;31m                 \u001b[0;32mreturn\u001b[0m \u001b[0mself\u001b[0m\u001b[0;34m.\u001b[0m\u001b[0msteps\u001b[0m\u001b[0;34m[\u001b[0m\u001b[0;34m-\u001b[0m\u001b[0;36m1\u001b[0m\u001b[0;34m]\u001b[0m\u001b[0;34m[\u001b[0m\u001b[0;36m1\u001b[0m\u001b[0;34m]\u001b[0m\u001b[0;34m.\u001b[0m\u001b[0mpredict\u001b[0m\u001b[0;34m(\u001b[0m\u001b[0mXt\u001b[0m\u001b[0;34m,\u001b[0m \u001b[0;34m**\u001b[0m\u001b[0mparams\u001b[0m\u001b[0;34m)\u001b[0m\u001b[0;34m\u001b[0m\u001b[0;34m\u001b[0m\u001b[0m\n\u001b[0m\u001b[1;32m    660\u001b[0m \u001b[0;34m\u001b[0m\u001b[0m\n\u001b[1;32m    661\u001b[0m             \u001b[0;31m# metadata routing enabled\u001b[0m\u001b[0;34m\u001b[0m\u001b[0;34m\u001b[0m\u001b[0m\n",
            "\u001b[0;32m/usr/local/lib/python3.11/dist-packages/sklearn/linear_model/_base.py\u001b[0m in \u001b[0;36mpredict\u001b[0;34m(self, X)\u001b[0m\n\u001b[1;32m    372\u001b[0m         \"\"\"\n\u001b[1;32m    373\u001b[0m         \u001b[0mxp\u001b[0m\u001b[0;34m,\u001b[0m \u001b[0m_\u001b[0m \u001b[0;34m=\u001b[0m \u001b[0mget_namespace\u001b[0m\u001b[0;34m(\u001b[0m\u001b[0mX\u001b[0m\u001b[0;34m)\u001b[0m\u001b[0;34m\u001b[0m\u001b[0;34m\u001b[0m\u001b[0m\n\u001b[0;32m--> 374\u001b[0;31m         \u001b[0mscores\u001b[0m \u001b[0;34m=\u001b[0m \u001b[0mself\u001b[0m\u001b[0;34m.\u001b[0m\u001b[0mdecision_function\u001b[0m\u001b[0;34m(\u001b[0m\u001b[0mX\u001b[0m\u001b[0;34m)\u001b[0m\u001b[0;34m\u001b[0m\u001b[0;34m\u001b[0m\u001b[0m\n\u001b[0m\u001b[1;32m    375\u001b[0m         \u001b[0;32mif\u001b[0m \u001b[0mlen\u001b[0m\u001b[0;34m(\u001b[0m\u001b[0mscores\u001b[0m\u001b[0;34m.\u001b[0m\u001b[0mshape\u001b[0m\u001b[0;34m)\u001b[0m \u001b[0;34m==\u001b[0m \u001b[0;36m1\u001b[0m\u001b[0;34m:\u001b[0m\u001b[0;34m\u001b[0m\u001b[0;34m\u001b[0m\u001b[0m\n\u001b[1;32m    376\u001b[0m             \u001b[0mindices\u001b[0m \u001b[0;34m=\u001b[0m \u001b[0mxp\u001b[0m\u001b[0;34m.\u001b[0m\u001b[0mastype\u001b[0m\u001b[0;34m(\u001b[0m\u001b[0mscores\u001b[0m \u001b[0;34m>\u001b[0m \u001b[0;36m0\u001b[0m\u001b[0;34m,\u001b[0m \u001b[0mindexing_dtype\u001b[0m\u001b[0;34m(\u001b[0m\u001b[0mxp\u001b[0m\u001b[0;34m)\u001b[0m\u001b[0;34m)\u001b[0m\u001b[0;34m\u001b[0m\u001b[0;34m\u001b[0m\u001b[0m\n",
            "\u001b[0;32m/usr/local/lib/python3.11/dist-packages/sklearn/linear_model/_base.py\u001b[0m in \u001b[0;36mdecision_function\u001b[0;34m(self, X)\u001b[0m\n\u001b[1;32m    349\u001b[0m         \u001b[0mxp\u001b[0m\u001b[0;34m,\u001b[0m \u001b[0m_\u001b[0m \u001b[0;34m=\u001b[0m \u001b[0mget_namespace\u001b[0m\u001b[0;34m(\u001b[0m\u001b[0mX\u001b[0m\u001b[0;34m)\u001b[0m\u001b[0;34m\u001b[0m\u001b[0;34m\u001b[0m\u001b[0m\n\u001b[1;32m    350\u001b[0m \u001b[0;34m\u001b[0m\u001b[0m\n\u001b[0;32m--> 351\u001b[0;31m         \u001b[0mX\u001b[0m \u001b[0;34m=\u001b[0m \u001b[0mvalidate_data\u001b[0m\u001b[0;34m(\u001b[0m\u001b[0mself\u001b[0m\u001b[0;34m,\u001b[0m \u001b[0mX\u001b[0m\u001b[0;34m,\u001b[0m \u001b[0maccept_sparse\u001b[0m\u001b[0;34m=\u001b[0m\u001b[0;34m\"csr\"\u001b[0m\u001b[0;34m,\u001b[0m \u001b[0mreset\u001b[0m\u001b[0;34m=\u001b[0m\u001b[0;32mFalse\u001b[0m\u001b[0;34m)\u001b[0m\u001b[0;34m\u001b[0m\u001b[0;34m\u001b[0m\u001b[0m\n\u001b[0m\u001b[1;32m    352\u001b[0m         \u001b[0mscores\u001b[0m \u001b[0;34m=\u001b[0m \u001b[0msafe_sparse_dot\u001b[0m\u001b[0;34m(\u001b[0m\u001b[0mX\u001b[0m\u001b[0;34m,\u001b[0m \u001b[0mself\u001b[0m\u001b[0;34m.\u001b[0m\u001b[0mcoef_\u001b[0m\u001b[0;34m.\u001b[0m\u001b[0mT\u001b[0m\u001b[0;34m,\u001b[0m \u001b[0mdense_output\u001b[0m\u001b[0;34m=\u001b[0m\u001b[0;32mTrue\u001b[0m\u001b[0;34m)\u001b[0m \u001b[0;34m+\u001b[0m \u001b[0mself\u001b[0m\u001b[0;34m.\u001b[0m\u001b[0mintercept_\u001b[0m\u001b[0;34m\u001b[0m\u001b[0;34m\u001b[0m\u001b[0m\n\u001b[1;32m    353\u001b[0m         return (\n",
            "\u001b[0;32m/usr/local/lib/python3.11/dist-packages/sklearn/utils/validation.py\u001b[0m in \u001b[0;36mvalidate_data\u001b[0;34m(_estimator, X, y, reset, validate_separately, skip_check_array, **check_params)\u001b[0m\n\u001b[1;32m   2942\u001b[0m             \u001b[0mout\u001b[0m \u001b[0;34m=\u001b[0m \u001b[0mX\u001b[0m\u001b[0;34m,\u001b[0m \u001b[0my\u001b[0m\u001b[0;34m\u001b[0m\u001b[0;34m\u001b[0m\u001b[0m\n\u001b[1;32m   2943\u001b[0m     \u001b[0;32melif\u001b[0m \u001b[0;32mnot\u001b[0m \u001b[0mno_val_X\u001b[0m \u001b[0;32mand\u001b[0m \u001b[0mno_val_y\u001b[0m\u001b[0;34m:\u001b[0m\u001b[0;34m\u001b[0m\u001b[0;34m\u001b[0m\u001b[0m\n\u001b[0;32m-> 2944\u001b[0;31m         \u001b[0mout\u001b[0m \u001b[0;34m=\u001b[0m \u001b[0mcheck_array\u001b[0m\u001b[0;34m(\u001b[0m\u001b[0mX\u001b[0m\u001b[0;34m,\u001b[0m \u001b[0minput_name\u001b[0m\u001b[0;34m=\u001b[0m\u001b[0;34m\"X\"\u001b[0m\u001b[0;34m,\u001b[0m \u001b[0;34m**\u001b[0m\u001b[0mcheck_params\u001b[0m\u001b[0;34m)\u001b[0m\u001b[0;34m\u001b[0m\u001b[0;34m\u001b[0m\u001b[0m\n\u001b[0m\u001b[1;32m   2945\u001b[0m     \u001b[0;32melif\u001b[0m \u001b[0mno_val_X\u001b[0m \u001b[0;32mand\u001b[0m \u001b[0;32mnot\u001b[0m \u001b[0mno_val_y\u001b[0m\u001b[0;34m:\u001b[0m\u001b[0;34m\u001b[0m\u001b[0;34m\u001b[0m\u001b[0m\n\u001b[1;32m   2946\u001b[0m         \u001b[0mout\u001b[0m \u001b[0;34m=\u001b[0m \u001b[0m_check_y\u001b[0m\u001b[0;34m(\u001b[0m\u001b[0my\u001b[0m\u001b[0;34m,\u001b[0m \u001b[0;34m**\u001b[0m\u001b[0mcheck_params\u001b[0m\u001b[0;34m)\u001b[0m\u001b[0;34m\u001b[0m\u001b[0;34m\u001b[0m\u001b[0m\n",
            "\u001b[0;32m/usr/local/lib/python3.11/dist-packages/sklearn/utils/validation.py\u001b[0m in \u001b[0;36mcheck_array\u001b[0;34m(array, accept_sparse, accept_large_sparse, dtype, order, copy, force_writeable, force_all_finite, ensure_all_finite, ensure_non_negative, ensure_2d, allow_nd, ensure_min_samples, ensure_min_features, estimator, input_name)\u001b[0m\n\u001b[1;32m   1105\u001b[0m \u001b[0;34m\u001b[0m\u001b[0m\n\u001b[1;32m   1106\u001b[0m         \u001b[0;32mif\u001b[0m \u001b[0mensure_all_finite\u001b[0m\u001b[0;34m:\u001b[0m\u001b[0;34m\u001b[0m\u001b[0;34m\u001b[0m\u001b[0m\n\u001b[0;32m-> 1107\u001b[0;31m             _assert_all_finite(\n\u001b[0m\u001b[1;32m   1108\u001b[0m                 \u001b[0marray\u001b[0m\u001b[0;34m,\u001b[0m\u001b[0;34m\u001b[0m\u001b[0;34m\u001b[0m\u001b[0m\n\u001b[1;32m   1109\u001b[0m                 \u001b[0minput_name\u001b[0m\u001b[0;34m=\u001b[0m\u001b[0minput_name\u001b[0m\u001b[0;34m,\u001b[0m\u001b[0;34m\u001b[0m\u001b[0;34m\u001b[0m\u001b[0m\n",
            "\u001b[0;32m/usr/local/lib/python3.11/dist-packages/sklearn/utils/validation.py\u001b[0m in \u001b[0;36m_assert_all_finite\u001b[0;34m(X, allow_nan, msg_dtype, estimator_name, input_name)\u001b[0m\n\u001b[1;32m    118\u001b[0m         \u001b[0;32mreturn\u001b[0m\u001b[0;34m\u001b[0m\u001b[0;34m\u001b[0m\u001b[0m\n\u001b[1;32m    119\u001b[0m \u001b[0;34m\u001b[0m\u001b[0m\n\u001b[0;32m--> 120\u001b[0;31m     _assert_all_finite_element_wise(\n\u001b[0m\u001b[1;32m    121\u001b[0m         \u001b[0mX\u001b[0m\u001b[0;34m,\u001b[0m\u001b[0;34m\u001b[0m\u001b[0;34m\u001b[0m\u001b[0m\n\u001b[1;32m    122\u001b[0m         \u001b[0mxp\u001b[0m\u001b[0;34m=\u001b[0m\u001b[0mxp\u001b[0m\u001b[0;34m,\u001b[0m\u001b[0;34m\u001b[0m\u001b[0;34m\u001b[0m\u001b[0m\n",
            "\u001b[0;32m/usr/local/lib/python3.11/dist-packages/sklearn/utils/validation.py\u001b[0m in \u001b[0;36m_assert_all_finite_element_wise\u001b[0;34m(X, xp, allow_nan, msg_dtype, estimator_name, input_name)\u001b[0m\n\u001b[1;32m    167\u001b[0m                 \u001b[0;34m\"#estimators-that-handle-nan-values\"\u001b[0m\u001b[0;34m\u001b[0m\u001b[0;34m\u001b[0m\u001b[0m\n\u001b[1;32m    168\u001b[0m             )\n\u001b[0;32m--> 169\u001b[0;31m         \u001b[0;32mraise\u001b[0m \u001b[0mValueError\u001b[0m\u001b[0;34m(\u001b[0m\u001b[0mmsg_err\u001b[0m\u001b[0;34m)\u001b[0m\u001b[0;34m\u001b[0m\u001b[0;34m\u001b[0m\u001b[0m\n\u001b[0m\u001b[1;32m    170\u001b[0m \u001b[0;34m\u001b[0m\u001b[0m\n\u001b[1;32m    171\u001b[0m \u001b[0;34m\u001b[0m\u001b[0m\n",
            "\u001b[0;31mValueError\u001b[0m: Input X contains NaN.\nLogisticRegression does not accept missing values encoded as NaN natively. For supervised learning, you might want to consider sklearn.ensemble.HistGradientBoostingClassifier and Regressor which accept missing values encoded as NaNs natively. Alternatively, it is possible to preprocess the data, for instance by using an imputer transformer in a pipeline or drop samples with missing values. See https://scikit-learn.org/stable/modules/impute.html You can find a list of all estimators that handle NaN values at the following page: https://scikit-learn.org/stable/modules/impute.html#estimators-that-handle-nan-values"
          ]
        }
      ]
    },
    {
      "cell_type": "code",
      "source": [],
      "metadata": {
        "id": "McybbFDNJZTY"
      },
      "execution_count": null,
      "outputs": []
    }
  ],
  "metadata": {
    "colab": {
      "provenance": []
    },
    "kernelspec": {
      "display_name": "Python 3",
      "name": "python3"
    },
    "language_info": {
      "name": "python"
    }
  },
  "nbformat": 4,
  "nbformat_minor": 0
}